{
 "cells": [
  {
   "cell_type": "code",
   "execution_count": 5,
   "metadata": {},
   "outputs": [],
   "source": [
    "import cmd\n",
    "import os"
   ]
  },
  {
   "cell_type": "code",
   "execution_count": 6,
   "metadata": {},
   "outputs": [
    {
     "name": "stdout",
     "output_type": "stream",
     "text": [
      "Starting prompt...\n",
      ".venv\n",
      "control_panel.ipynb\n",
      "control_panel.py\n",
      "dataParser\n",
      "dataProcessor\n",
      "dataStorage\n",
      "dataVisualization\n",
      "MachineLearning\n",
      "MachineLearningTrainer\n",
      "Directory not found\n",
      "Directory changed to d:\\ISproject\\dataParser\n",
      "main_parser.ipynb\n",
      "notes.txt\n",
      "parser.py\n"
     ]
    }
   ],
   "source": [
    "class MyConsole(cmd.Cmd):\n",
    "    prompt = '> '  # Приглашение командной строки\n",
    "\n",
    "    def do_hello(self, line):\n",
    "        \"\"\"Приветствие с именем\"\"\"\n",
    "        print(\"Hello,\", line)\n",
    "\n",
    "    def do_sum(self, line):\n",
    "        \"\"\"Сложение чисел\"\"\"\n",
    "        try:\n",
    "            numbers = [int(x) for x in line.split()]\n",
    "            print(\"Sum:\", sum(numbers))\n",
    "        except ValueError:\n",
    "            print(\"Invalid input. Please enter numbers separated by spaces.\")\n",
    "    \n",
    "    def do_ls(self, line):\n",
    "        \"\"\"Список файлов и каталогов в текущем каталоге\"\"\"\n",
    "        files = os.listdir(os.getcwd())\n",
    "        for file in files:\n",
    "            print(file)\n",
    "\n",
    "    def do_cd(self, line):\n",
    "        \"\"\"Смена текущего каталога\"\"\"\n",
    "        try:\n",
    "            os.chdir(line)\n",
    "        except FileNotFoundError:\n",
    "            print(\"Directory not found\")\n",
    "        except PermissionError:\n",
    "            print(\"Permission denied\")\n",
    "        else:\n",
    "            print(\"Directory changed to\", os.getcwd())\n",
    "\n",
    "    def do_quit(self, line):\n",
    "        \"\"\"Выход из программы\"\"\"\n",
    "        return True\n",
    "\n",
    "    def default(self, line):\n",
    "        \"\"\"Обработка неизвестных команд\"\"\"\n",
    "        print(\"Invalid command\")\n",
    "\n",
    "if __name__ == '__main__':\n",
    "    console = MyConsole()\n",
    "    console.cmdloop('Starting prompt...')"
   ]
  }
 ],
 "metadata": {
  "kernelspec": {
   "display_name": ".venv",
   "language": "python",
   "name": "python3"
  },
  "language_info": {
   "codemirror_mode": {
    "name": "ipython",
    "version": 3
   },
   "file_extension": ".py",
   "mimetype": "text/x-python",
   "name": "python",
   "nbconvert_exporter": "python",
   "pygments_lexer": "ipython3",
   "version": "3.11.8"
  }
 },
 "nbformat": 4,
 "nbformat_minor": 2
}
